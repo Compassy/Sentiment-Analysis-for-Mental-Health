{
 "cells": [
  {
   "cell_type": "markdown",
   "id": "18d53ec2699237d4",
   "metadata": {},
   "source": [
    "# Sentiment Analysis for Mental Health"
   ]
  },
  {
   "cell_type": "markdown",
   "id": "cbf6967cc60e8346",
   "metadata": {},
   "source": [
    "## Importing Libraries"
   ]
  },
  {
   "cell_type": "code",
   "execution_count": 1,
   "id": "initial_id",
   "metadata": {
    "ExecuteTime": {
     "end_time": "2024-08-23T18:39:58.851004Z",
     "start_time": "2024-08-23T18:39:58.582589Z"
    },
    "collapsed": true
   },
   "outputs": [],
   "source": [
    "import re\n",
    "import time\n",
    "import spacy\n",
    "import pickle\n",
    "import numpy as np\n",
    "import pandas as pd\n",
    "import seaborn as sns\n",
    "from tqdm import tqdm\n",
    "import matplotlib as mpl\n",
    "from sklearn.svm import SVC\n",
    "import matplotlib.pyplot as plt\n",
    "from collections import Counter\n",
    "from sklearn.pipeline import Pipeline\n",
    "from scipy.stats import randint, uniform\n",
    "from imblearn.over_sampling import SMOTE\n",
    "from sklearn.neural_network import MLPClassifier\n",
    "from sklearn.metrics import classification_report\n",
    "from sklearn.model_selection import train_test_split\n",
    "from sklearn.feature_extraction.text import TfidfVectorizer\n",
    "from sklearn.linear_model import LogisticRegression, SGDClassifier\n",
    "from sklearn.tree import DecisionTreeClassifier, ExtraTreeClassifier\n",
    "from sklearn.model_selection import RandomizedSearchCV, cross_validate, train_test_split, KFold\n",
    "from sklearn.ensemble import AdaBoostClassifier, RandomForestClassifier, ExtraTreesClassifier, GradientBoostingClassifier, BaggingClassifier\n",
    "from sklearn.metrics import ConfusionMatrixDisplay, classification_report, confusion_matrix, make_scorer, accuracy_score, f1_score, precision_score, recall_score"
   ]
  },
  {
   "cell_type": "markdown",
   "id": "1f1b1c27455f4b2d",
   "metadata": {},
   "source": [
    "## Reading the data"
   ]
  },
  {
   "cell_type": "code",
   "execution_count": 2,
   "id": "2a862cba8cc4c416",
   "metadata": {
    "ExecuteTime": {
     "end_time": "2024-08-23T18:21:30.131389Z",
     "start_time": "2024-08-23T18:21:29.808153Z"
    }
   },
   "outputs": [
    {
     "data": {
      "text/html": [
       "<div>\n",
       "<style scoped>\n",
       "    .dataframe tbody tr th:only-of-type {\n",
       "        vertical-align: middle;\n",
       "    }\n",
       "\n",
       "    .dataframe tbody tr th {\n",
       "        vertical-align: top;\n",
       "    }\n",
       "\n",
       "    .dataframe thead th {\n",
       "        text-align: right;\n",
       "    }\n",
       "</style>\n",
       "<table border=\"1\" class=\"dataframe\">\n",
       "  <thead>\n",
       "    <tr style=\"text-align: right;\">\n",
       "      <th></th>\n",
       "      <th>statement</th>\n",
       "      <th>status</th>\n",
       "    </tr>\n",
       "  </thead>\n",
       "  <tbody>\n",
       "    <tr>\n",
       "      <th>0</th>\n",
       "      <td>oh my gosh</td>\n",
       "      <td>Anxiety</td>\n",
       "    </tr>\n",
       "    <tr>\n",
       "      <th>1</th>\n",
       "      <td>trouble sleeping, confused mind, restless hear...</td>\n",
       "      <td>Anxiety</td>\n",
       "    </tr>\n",
       "    <tr>\n",
       "      <th>2</th>\n",
       "      <td>All wrong, back off dear, forward doubt. Stay ...</td>\n",
       "      <td>Anxiety</td>\n",
       "    </tr>\n",
       "    <tr>\n",
       "      <th>3</th>\n",
       "      <td>I've shifted my focus to something else but I'...</td>\n",
       "      <td>Anxiety</td>\n",
       "    </tr>\n",
       "    <tr>\n",
       "      <th>4</th>\n",
       "      <td>I'm restless and restless, it's been a month n...</td>\n",
       "      <td>Anxiety</td>\n",
       "    </tr>\n",
       "    <tr>\n",
       "      <th>5</th>\n",
       "      <td>every break, you must be nervous, like somethi...</td>\n",
       "      <td>Anxiety</td>\n",
       "    </tr>\n",
       "    <tr>\n",
       "      <th>6</th>\n",
       "      <td>I feel scared, anxious, what can I do? And may...</td>\n",
       "      <td>Anxiety</td>\n",
       "    </tr>\n",
       "    <tr>\n",
       "      <th>7</th>\n",
       "      <td>Have you ever felt nervous but didn't know why?</td>\n",
       "      <td>Anxiety</td>\n",
       "    </tr>\n",
       "    <tr>\n",
       "      <th>8</th>\n",
       "      <td>I haven't slept well for 2 days, it's like I'm...</td>\n",
       "      <td>Anxiety</td>\n",
       "    </tr>\n",
       "    <tr>\n",
       "      <th>9</th>\n",
       "      <td>I'm really worried, I want to cry.</td>\n",
       "      <td>Anxiety</td>\n",
       "    </tr>\n",
       "  </tbody>\n",
       "</table>\n",
       "</div>"
      ],
      "text/plain": [
       "                                           statement   status\n",
       "0                                         oh my gosh  Anxiety\n",
       "1  trouble sleeping, confused mind, restless hear...  Anxiety\n",
       "2  All wrong, back off dear, forward doubt. Stay ...  Anxiety\n",
       "3  I've shifted my focus to something else but I'...  Anxiety\n",
       "4  I'm restless and restless, it's been a month n...  Anxiety\n",
       "5  every break, you must be nervous, like somethi...  Anxiety\n",
       "6  I feel scared, anxious, what can I do? And may...  Anxiety\n",
       "7    Have you ever felt nervous but didn't know why?  Anxiety\n",
       "8  I haven't slept well for 2 days, it's like I'm...  Anxiety\n",
       "9                 I'm really worried, I want to cry.  Anxiety"
      ]
     },
     "execution_count": 2,
     "metadata": {},
     "output_type": "execute_result"
    }
   ],
   "source": [
    "df = pd.read_csv('Combined Data.csv').drop(columns=['Unnamed: 0'])\n",
    "df.head(10)"
   ]
  },
  {
   "cell_type": "code",
   "execution_count": 3,
   "id": "eb3efce99b47a328",
   "metadata": {
    "ExecuteTime": {
     "end_time": "2024-08-23T18:21:30.484783Z",
     "start_time": "2024-08-23T18:21:30.472859Z"
    }
   },
   "outputs": [
    {
     "name": "stdout",
     "output_type": "stream",
     "text": [
      "<class 'pandas.core.frame.DataFrame'>\n",
      "RangeIndex: 53043 entries, 0 to 53042\n",
      "Data columns (total 2 columns):\n",
      " #   Column     Non-Null Count  Dtype \n",
      "---  ------     --------------  ----- \n",
      " 0   statement  52681 non-null  object\n",
      " 1   status     53043 non-null  object\n",
      "dtypes: object(2)\n",
      "memory usage: 828.9+ KB\n"
     ]
    }
   ],
   "source": [
    "df.info()"
   ]
  },
  {
   "cell_type": "code",
   "execution_count": 4,
   "id": "9a967029",
   "metadata": {},
   "outputs": [
    {
     "data": {
      "text/plain": [
       "statement    362\n",
       "status         0\n",
       "dtype: int64"
      ]
     },
     "execution_count": 4,
     "metadata": {},
     "output_type": "execute_result"
    }
   ],
   "source": [
    "df.isnull().sum()"
   ]
  },
  {
   "cell_type": "code",
   "execution_count": 5,
   "id": "a6d091c3",
   "metadata": {},
   "outputs": [],
   "source": [
    "df = df.dropna(axis=0, how='any')"
   ]
  },
  {
   "cell_type": "code",
   "execution_count": 6,
   "id": "c648844b3ec79066",
   "metadata": {
    "ExecuteTime": {
     "end_time": "2024-08-23T18:21:30.628818Z",
     "start_time": "2024-08-23T18:21:30.625412Z"
    }
   },
   "outputs": [
    {
     "name": "stdout",
     "output_type": "stream",
     "text": [
      "Number of rows and columns in the dataset:  (52681, 2)\n"
     ]
    }
   ],
   "source": [
    "print(\"Number of rows and columns in the dataset: \", df.shape)"
   ]
  },
  {
   "cell_type": "markdown",
   "id": "d6689d9373d74e5e",
   "metadata": {},
   "source": [
    "## Exploratory Data Analysis (EDA)"
   ]
  },
  {
   "cell_type": "code",
   "execution_count": 7,
   "id": "bb2de56a",
   "metadata": {},
   "outputs": [
    {
     "data": {
      "text/plain": [
       "status\n",
       "Normal                  16343\n",
       "Depression              15404\n",
       "Suicidal                10652\n",
       "Anxiety                  3841\n",
       "Bipolar                  2777\n",
       "Stress                   2587\n",
       "Personality disorder     1077\n",
       "Name: count, dtype: int64"
      ]
     },
     "execution_count": 7,
     "metadata": {},
     "output_type": "execute_result"
    }
   ],
   "source": [
    "df['status'].value_counts()"
   ]
  },
  {
   "cell_type": "code",
   "execution_count": 8,
   "id": "eafe9fd4",
   "metadata": {},
   "outputs": [
    {
     "data": {
      "text/html": [
       "<div>\n",
       "<style scoped>\n",
       "    .dataframe tbody tr th:only-of-type {\n",
       "        vertical-align: middle;\n",
       "    }\n",
       "\n",
       "    .dataframe tbody tr th {\n",
       "        vertical-align: top;\n",
       "    }\n",
       "\n",
       "    .dataframe thead th {\n",
       "        text-align: right;\n",
       "    }\n",
       "</style>\n",
       "<table border=\"1\" class=\"dataframe\">\n",
       "  <thead>\n",
       "    <tr style=\"text-align: right;\">\n",
       "      <th></th>\n",
       "      <th>statement</th>\n",
       "      <th>status</th>\n",
       "    </tr>\n",
       "  </thead>\n",
       "  <tbody>\n",
       "    <tr>\n",
       "      <th>count</th>\n",
       "      <td>52681</td>\n",
       "      <td>52681</td>\n",
       "    </tr>\n",
       "    <tr>\n",
       "      <th>unique</th>\n",
       "      <td>51073</td>\n",
       "      <td>7</td>\n",
       "    </tr>\n",
       "    <tr>\n",
       "      <th>top</th>\n",
       "      <td>what do you mean?</td>\n",
       "      <td>Normal</td>\n",
       "    </tr>\n",
       "    <tr>\n",
       "      <th>freq</th>\n",
       "      <td>22</td>\n",
       "      <td>16343</td>\n",
       "    </tr>\n",
       "  </tbody>\n",
       "</table>\n",
       "</div>"
      ],
      "text/plain": [
       "                statement  status\n",
       "count               52681   52681\n",
       "unique              51073       7\n",
       "top     what do you mean?  Normal\n",
       "freq                   22   16343"
      ]
     },
     "execution_count": 8,
     "metadata": {},
     "output_type": "execute_result"
    }
   ],
   "source": [
    "df.describe()"
   ]
  },
  {
   "cell_type": "code",
   "execution_count": 9,
   "id": "9ea484702d844f53",
   "metadata": {
    "ExecuteTime": {
     "end_time": "2024-08-23T18:21:35.302177Z",
     "start_time": "2024-08-23T18:21:35.159313Z"
    }
   },
   "outputs": [
    {
     "data": {
      "image/png": "[encoded data removed]",
      "text/plain": [
       "<Figure size 600x600 with 1 Axes>"
      ]
     },
     "metadata": {},
     "output_type": "display_data"
    }
   ],
   "source": [
    "plt.figure(figsize=(6,6))\n",
    "plt.pie(df['status'].value_counts(), labels=df['status'].unique(), autopct='%1.1f%%')\n",
    "plt.title('Status Distribution')\n",
    "plt.show()"
   ]
  },
  {
   "cell_type": "code",
   "execution_count": 10,
   "id": "794080ce",
   "metadata": {},
   "outputs": [],
   "source": [
    "df['statement_length'] = df['statement'].apply(lambda x: len(x.split()))"
   ]
  },
  {
   "cell_type": "code",
   "execution_count": 11,
   "id": "01df9488",
   "metadata": {},
   "outputs": [
    {
     "data": {
      "image/png": "[encoded data removed]",
      "text/plain": [
       "<Figure size 700x500 with 1 Axes>"
      ]
     },
     "metadata": {},
     "output_type": "display_data"
    }
   ],
   "source": [
    "f, ax = plt.subplots(figsize=(7, 5))\n",
    "sns.despine(f)\n",
    "\n",
    "sns.histplot(\n",
    "    df,\n",
    "    x=\"statement_length\", hue=\"status\",\n",
    "    multiple=\"stack\",\n",
    "    palette=\"light:m_r\",\n",
    "    edgecolor=\".9\",\n",
    "    log_scale=True,\n",
    ")\n",
    "ax.xaxis.set_major_formatter(mpl.ticker.ScalarFormatter())"
   ]
  },
  {
   "cell_type": "code",
   "execution_count": 12,
   "id": "4b374019",
   "metadata": {},
   "outputs": [
    {
     "data": {
      "text/plain": [
       "count    52681.000000\n",
       "mean       113.158729\n",
       "std        163.735305\n",
       "min          1.000000\n",
       "25%         15.000000\n",
       "50%         62.000000\n",
       "75%        148.000000\n",
       "max       6300.000000\n",
       "Name: statement_length, dtype: float64"
      ]
     },
     "execution_count": 12,
     "metadata": {},
     "output_type": "execute_result"
    }
   ],
   "source": [
    "df['statement_length'].describe()"
   ]
  },
  {
   "cell_type": "code",
   "execution_count": 13,
   "id": "d6d22ef8",
   "metadata": {},
   "outputs": [
    {
     "data": {
      "image/png": "[encoded data removed]",
      "text/plain": [
       "<Figure size 640x480 with 1 Axes>"
      ]
     },
     "metadata": {},
     "output_type": "display_data"
    }
   ],
   "source": [
    "sns.boxplot(data=df, x=\"statement_length\", color=\".8\", linecolor=\"#137\", linewidth=.75)\n",
    "sns.despine(offset=10, trim=True)"
   ]
  },
  {
   "cell_type": "markdown",
   "id": "33f308590b9a9ca0",
   "metadata": {},
   "source": [
    "## Text Processing"
   ]
  },
  {
   "cell_type": "markdown",
   "id": "574d52c7",
   "metadata": {},
   "source": [
    "#### Statement IQR"
   ]
  },
  {
   "cell_type": "code",
   "execution_count": 14,
   "id": "fdea03b8",
   "metadata": {},
   "outputs": [],
   "source": [
    "Q1 = df['statement_length'].quantile(0.25)\n",
    "Q3 = df['statement_length'].quantile(0.75)\n",
    "IQR = Q3 - Q1\n",
    "\n",
    "lower_bound = Q1 - 1.5 * IQR\n",
    "upper_bound = Q3 + 1.5 * IQR\n",
    "\n",
    "df = df[(df['statement_length'] >= lower_bound) & (df['statement_length'] <= upper_bound)]"
   ]
  },
  {
   "cell_type": "markdown",
   "id": "c1275300",
   "metadata": {},
   "source": [
    "#### Statement Cleaning"
   ]
  },
  {
   "cell_type": "code",
   "execution_count": 15,
   "id": "3640a156814e0425",
   "metadata": {
    "ExecuteTime": {
     "end_time": "2024-08-23T18:21:37.667994Z",
     "start_time": "2024-08-23T18:21:37.110145Z"
    }
   },
   "outputs": [],
   "source": [
    "nlp = spacy.load(\"en_core_web_sm\")\n",
    "\n",
    "def preprocess_text(text):\n",
    "    # Remove HTML tags\n",
    "    text = re.sub(r'<[^>]*>', '', text)\n",
    "    \n",
    "    # Remove URLs\n",
    "    text = re.sub(r'(http|www)\\S+', '', text)\n",
    "    \n",
    "    # Remove usernames\n",
    "    text = re.sub(r'@\\S+', '', text)\n",
    "    \n",
    "    # Remove hashtags\n",
    "    text = re.sub(r'#\\S+', '', text)\n",
    "    \n",
    "    # Remove digits\n",
    "    text = re.sub(r'\\d+', '', text)\n",
    "    \n",
    "    # Remove special characters like $, &, etc.\n",
    "    text = re.sub(r'[\\$\\&\\%\\*\\@\\#\\!\\?]', '', text)\n",
    "    \n",
    "    # Find emoticons\n",
    "    emoticons = re.findall(r'(?::|;|=)(?:-)?(?:\\)|\\(|D|P)', text)\n",
    "    \n",
    "    # Remove punctuations and non-alphabetic characters while preserving spaces and emoticons\n",
    "    text = re.sub(r\"[^a-zA-Z\\s']\", '', text)\n",
    "    \n",
    "    # Convert to lowercase and add emoticons back\n",
    "    text = text.lower() + ' ' + ' '.join(emoticons).replace('-', '')\n",
    "    \n",
    "    # Remove extra white spaces\n",
    "    text = re.sub(r'\\s+', ' ', text).strip()\n",
    "    \n",
    "    # Tokenize text using spaCy\n",
    "    doc = nlp(text)\n",
    "    \n",
    "    # Lemmatize and remove stopwords\n",
    "    cleaned_text = \" \".join([token.lemma_ for token in doc if not token.is_stop])\n",
    "    \n",
    "    # Remove words with only 1 character\n",
    "    cleaned_text = re.sub(r'\\b\\w\\b', '', cleaned_text)\n",
    "\n",
    "    # Remove apostrophes but prevent additional spaces\n",
    "    cleaned_text = re.sub(r\"\\s+'|'\\s+\", ' ', cleaned_text).strip()\n",
    "    \n",
    "    return cleaned_text"
   ]
  },
  {
   "cell_type": "code",
   "execution_count": 16,
   "id": "548b2be4",
   "metadata": {},
   "outputs": [],
   "source": [
    "df['cleaned_statement'] = np.vectorize(preprocess_text)(df['statement'])"
   ]
  },
  {
   "cell_type": "code",
   "execution_count": 17,
   "id": "83ed67c7",
   "metadata": {},
   "outputs": [],
   "source": [
    "df.replace(r'^\\s*$', np.nan, regex=True, inplace=True)\n",
    "df.dropna(axis=0, how='any', inplace=True)"
   ]
  },
  {
   "cell_type": "markdown",
   "id": "294c1e66d69a66bc",
   "metadata": {},
   "source": [
    "## Train Test Split"
   ]
  },
  {
   "cell_type": "code",
   "execution_count": 18,
   "id": "40cf8b7a02a24e9c",
   "metadata": {
    "ExecuteTime": {
     "end_time": "2024-08-23T18:35:00.161720Z",
     "start_time": "2024-08-23T18:35:00.094874Z"
    }
   },
   "outputs": [],
   "source": [
    "X_train, X_test, y_train, y_test = train_test_split(df['cleaned_statement'], df['status'], test_size=0.2, random_state=42)"
   ]
  },
  {
   "cell_type": "markdown",
   "id": "8dfdeaf5",
   "metadata": {},
   "source": [
    "## Term Frequency-Inverse Document Frequency (TF-IDF)"
   ]
  },
  {
   "cell_type": "code",
   "execution_count": 19,
   "id": "75037f11ba7530",
   "metadata": {
    "ExecuteTime": {
     "end_time": "2024-08-23T18:35:00.270513Z",
     "start_time": "2024-08-23T18:35:00.262589Z"
    }
   },
   "outputs": [],
   "source": [
    "tfidf = TfidfVectorizer(use_idf=True, norm= 'l2', smooth_idf=True)\n",
    "X_train, X_test = tfidf.fit_transform(X_train), tfidf.transform(X_test)"
   ]
  },
  {
   "cell_type": "markdown",
   "id": "b1782c3a",
   "metadata": {},
   "source": [
    "## Over-Sampling"
   ]
  },
  {
   "cell_type": "code",
   "execution_count": 20,
   "id": "ee5beabb",
   "metadata": {},
   "outputs": [],
   "source": [
    "smote = SMOTE(random_state=42)\n",
    "X_re_sampled, y_re_sampled = smote.fit_resample(X_train, y_train)"
   ]
  },
  {
   "cell_type": "code",
   "execution_count": 21,
   "id": "661d3634",
   "metadata": {},
   "outputs": [
    {
     "name": "stdout",
     "output_type": "stream",
     "text": [
      "SMOTE: Counter({'Anxiety': 12785, 'Suicidal': 12785, 'Normal': 12785, 'Depression': 12785, 'Stress': 12785, 'Bipolar': 12785, 'Personality disorder': 12785})\n"
     ]
    }
   ],
   "source": [
    "print(f\"SMOTE: {Counter(y_re_sampled)}\")"
   ]
  },
  {
   "cell_type": "markdown",
   "id": "94cd606d0d091f00",
   "metadata": {},
   "source": [
    "## Modelling"
   ]
  },
  {
   "cell_type": "code",
   "execution_count": 22,
   "id": "77b92a2b84cab66",
   "metadata": {},
   "outputs": [],
   "source": [
    "classification_models: dict = {\n",
    "    'LogisticRegression': LogisticRegression(random_state=42, max_iter=1000),\n",
    "    'DecisionTreeClassifier': DecisionTreeClassifier(random_state=42),\n",
    "    'ExtraTreeClassifier': ExtraTreeClassifier(random_state=42),\n",
    "    'AdaBoostClassifier': AdaBoostClassifier(random_state=42, algorithm='SAMME'),\n",
    "    'RandomForestClassifier': RandomForestClassifier(random_state=42),\n",
    "    'ExtraTreesClassifier': ExtraTreesClassifier(random_state=42),\n",
    "    'GradientBoostingClassifier': GradientBoostingClassifier(random_state=42),\n",
    "    'BaggingClassifier': BaggingClassifier(random_state=42),\n",
    "    'SGDClassifier': SGDClassifier(random_state=42),\n",
    "    'SVC': SVC(random_state=42),\n",
    "    'MLPClassifier': MLPClassifier(random_state=42, max_iter=1000)\n",
    "}"
   ]
  },
  {
   "cell_type": "markdown",
   "id": "7352288a",
   "metadata": {},
   "source": [
    "## K-Fold Cross Validation"
   ]
  },
  {
   "cell_type": "code",
   "execution_count": 23,
   "id": "64e63857ec5ee04",
   "metadata": {},
   "outputs": [],
   "source": [
    "kfold = KFold(n_splits=5, shuffle=True, random_state=42)"
   ]
  },
  {
   "cell_type": "markdown",
   "id": "b58e4b04adb3418d",
   "metadata": {},
   "source": [
    "## Training Model"
   ]
  },
  {
   "cell_type": "code",
   "execution_count": 24,
   "id": "cdb690bacd5fc4c9",
   "metadata": {},
   "outputs": [],
   "source": [
    "def evaluate_classification_models(x_train: pd.DataFrame, y_train: pd.Series, models, cv: int = 5):\n",
    "    \"\"\"\n",
    "    Evaluates a list of models using cross-validation, stores results, and returns a DataFrame for comparison.\n",
    "\n",
    "    Args:\n",
    "        x_train (pd.DataFrame): Training features.\n",
    "        y_train (pd.Series): Training target variable.\n",
    "        models (list): A list of scikit-learn model objects.\n",
    "        cv (int): Number of cross-validation folds. Default is 5.\n",
    "\n",
    "    Returns:\n",
    "        pd.DataFrame: A DataFrame containing model names and evaluation metrics.\n",
    "    \"\"\"\n",
    "    \n",
    "    metric_evaluation = {\n",
    "        'accuracy': make_scorer(accuracy_score),\n",
    "        'f1': make_scorer(f1_score, average='macro', zero_division=1),\n",
    "        'recall': make_scorer(recall_score, average='macro', zero_division=1),\n",
    "        'precision': make_scorer(precision_score, average='macro', zero_division=1),\n",
    "    }\n",
    "    model_results = []\n",
    "    for model_name, model in tqdm(models.items()):\n",
    "        start_time = time.time()\n",
    "        cv_results = cross_validate(model, x_train, y_train, scoring=metric_evaluation, cv=cv, return_train_score=False, n_jobs=-1) \n",
    "        training_time = time.time() - start_time\n",
    "\n",
    "        model_results.append({\n",
    "            \"Model-Name\": model_name,\n",
    "            \"Accuracy Mean\": cv_results['test_accuracy'].mean() * 100,\n",
    "            \"Accuracy Std\": cv_results['test_accuracy'].std() * 100,\n",
    "            \"F1_Score Mean\": cv_results['test_f1'].mean(),\n",
    "            \"F1_Score Std\": cv_results['test_f1'].std(),\n",
    "            \"Precision Mean\": cv_results['test_precision'].mean(),\n",
    "            \"Precision Std\": cv_results['test_precision'].std(),\n",
    "            \"Recall Mean\": cv_results['test_recall'].mean(),\n",
    "            \"Recall Std\": cv_results['test_recall'].std(),\n",
    "            \"Training Time (s)\": training_time\n",
    "        })\n",
    "\n",
    "    df_models_score = pd.DataFrame(model_results).set_index('Model-Name').sort_values(\"F1_Score Mean\", ascending=False)\n",
    "    \n",
    "    return df_models_score.sort_values(\"F1_Score Mean\", ascending=False)"
   ]
  },
  {
   "cell_type": "code",
   "execution_count": 25,
   "id": "e99c46a6249cbfe0",
   "metadata": {},
   "outputs": [
    {
     "name": "stderr",
     "output_type": "stream",
     "text": [
      "100%|██████████| 11/11 [5:22:52<00:00, 1761.18s/it] \n"
     ]
    }
   ],
   "source": [
    "df_models_score = evaluate_classification_models(X_re_sampled, y_re_sampled, classification_models, cv=kfold)"
   ]
  },
  {
   "cell_type": "code",
   "execution_count": 26,
   "id": "e36c016b148b48aa",
   "metadata": {},
   "outputs": [
    {
     "data": {
      "text/html": [
       "<div>\n",
       "<style scoped>\n",
       "    .dataframe tbody tr th:only-of-type {\n",
       "        vertical-align: middle;\n",
       "    }\n",
       "\n",
       "    .dataframe tbody tr th {\n",
       "        vertical-align: top;\n",
       "    }\n",
       "\n",
       "    .dataframe thead th {\n",
       "        text-align: right;\n",
       "    }\n",
       "</style>\n",
       "<table border=\"1\" class=\"dataframe\">\n",
       "  <thead>\n",
       "    <tr style=\"text-align: right;\">\n",
       "      <th></th>\n",
       "      <th>Accuracy Mean</th>\n",
       "      <th>Accuracy Std</th>\n",
       "      <th>F1_Score Mean</th>\n",
       "      <th>F1_Score Std</th>\n",
       "      <th>Precision Mean</th>\n",
       "      <th>Precision Std</th>\n",
       "      <th>Recall Mean</th>\n",
       "      <th>Recall Std</th>\n",
       "      <th>Training Time (s)</th>\n",
       "    </tr>\n",
       "    <tr>\n",
       "      <th>Model-Name</th>\n",
       "      <th></th>\n",
       "      <th></th>\n",
       "      <th></th>\n",
       "      <th></th>\n",
       "      <th></th>\n",
       "      <th></th>\n",
       "      <th></th>\n",
       "      <th></th>\n",
       "      <th></th>\n",
       "    </tr>\n",
       "  </thead>\n",
       "  <tbody>\n",
       "    <tr>\n",
       "      <th>ExtraTreesClassifier</th>\n",
       "      <td>92.367171</td>\n",
       "      <td>0.158629</td>\n",
       "      <td>0.922449</td>\n",
       "      <td>0.001392</td>\n",
       "      <td>0.923257</td>\n",
       "      <td>0.001565</td>\n",
       "      <td>0.923670</td>\n",
       "      <td>0.001379</td>\n",
       "      <td>986.351300</td>\n",
       "    </tr>\n",
       "    <tr>\n",
       "      <th>SVC</th>\n",
       "      <td>92.299011</td>\n",
       "      <td>0.195289</td>\n",
       "      <td>0.922248</td>\n",
       "      <td>0.001684</td>\n",
       "      <td>0.922504</td>\n",
       "      <td>0.001734</td>\n",
       "      <td>0.922984</td>\n",
       "      <td>0.001738</td>\n",
       "      <td>3110.773272</td>\n",
       "    </tr>\n",
       "    <tr>\n",
       "      <th>MLPClassifier</th>\n",
       "      <td>91.504553</td>\n",
       "      <td>0.173594</td>\n",
       "      <td>0.913208</td>\n",
       "      <td>0.001873</td>\n",
       "      <td>0.912971</td>\n",
       "      <td>0.001743</td>\n",
       "      <td>0.915064</td>\n",
       "      <td>0.001715</td>\n",
       "      <td>9996.615614</td>\n",
       "    </tr>\n",
       "    <tr>\n",
       "      <th>RandomForestClassifier</th>\n",
       "      <td>91.040840</td>\n",
       "      <td>0.131671</td>\n",
       "      <td>0.908892</td>\n",
       "      <td>0.001610</td>\n",
       "      <td>0.911403</td>\n",
       "      <td>0.001626</td>\n",
       "      <td>0.910403</td>\n",
       "      <td>0.001468</td>\n",
       "      <td>611.053428</td>\n",
       "    </tr>\n",
       "    <tr>\n",
       "      <th>LogisticRegression</th>\n",
       "      <td>87.096486</td>\n",
       "      <td>0.161019</td>\n",
       "      <td>0.868249</td>\n",
       "      <td>0.001415</td>\n",
       "      <td>0.868188</td>\n",
       "      <td>0.001565</td>\n",
       "      <td>0.870974</td>\n",
       "      <td>0.001430</td>\n",
       "      <td>30.908529</td>\n",
       "    </tr>\n",
       "    <tr>\n",
       "      <th>BaggingClassifier</th>\n",
       "      <td>84.317560</td>\n",
       "      <td>0.140541</td>\n",
       "      <td>0.841288</td>\n",
       "      <td>0.001701</td>\n",
       "      <td>0.840187</td>\n",
       "      <td>0.001675</td>\n",
       "      <td>0.843168</td>\n",
       "      <td>0.001726</td>\n",
       "      <td>1051.847997</td>\n",
       "    </tr>\n",
       "    <tr>\n",
       "      <th>SGDClassifier</th>\n",
       "      <td>84.160009</td>\n",
       "      <td>0.134615</td>\n",
       "      <td>0.833940</td>\n",
       "      <td>0.001280</td>\n",
       "      <td>0.841880</td>\n",
       "      <td>0.001364</td>\n",
       "      <td>0.841614</td>\n",
       "      <td>0.000833</td>\n",
       "      <td>5.110689</td>\n",
       "    </tr>\n",
       "    <tr>\n",
       "      <th>DecisionTreeClassifier</th>\n",
       "      <td>80.509526</td>\n",
       "      <td>0.233439</td>\n",
       "      <td>0.803584</td>\n",
       "      <td>0.001534</td>\n",
       "      <td>0.802614</td>\n",
       "      <td>0.001558</td>\n",
       "      <td>0.805109</td>\n",
       "      <td>0.001674</td>\n",
       "      <td>119.431770</td>\n",
       "    </tr>\n",
       "    <tr>\n",
       "      <th>GradientBoostingClassifier</th>\n",
       "      <td>80.119560</td>\n",
       "      <td>0.176977</td>\n",
       "      <td>0.800036</td>\n",
       "      <td>0.001560</td>\n",
       "      <td>0.803307</td>\n",
       "      <td>0.001425</td>\n",
       "      <td>0.801212</td>\n",
       "      <td>0.001839</td>\n",
       "      <td>3297.142758</td>\n",
       "    </tr>\n",
       "    <tr>\n",
       "      <th>ExtraTreeClassifier</th>\n",
       "      <td>74.390748</td>\n",
       "      <td>0.223152</td>\n",
       "      <td>0.740097</td>\n",
       "      <td>0.002275</td>\n",
       "      <td>0.737760</td>\n",
       "      <td>0.002395</td>\n",
       "      <td>0.743957</td>\n",
       "      <td>0.002123</td>\n",
       "      <td>10.941393</td>\n",
       "    </tr>\n",
       "    <tr>\n",
       "      <th>AdaBoostClassifier</th>\n",
       "      <td>57.013241</td>\n",
       "      <td>1.278693</td>\n",
       "      <td>0.565475</td>\n",
       "      <td>0.011924</td>\n",
       "      <td>0.606599</td>\n",
       "      <td>0.009409</td>\n",
       "      <td>0.570158</td>\n",
       "      <td>0.012860</td>\n",
       "      <td>152.698933</td>\n",
       "    </tr>\n",
       "  </tbody>\n",
       "</table>\n",
       "</div>"
      ],
      "text/plain": [
       "                            Accuracy Mean  Accuracy Std  F1_Score Mean  \\\n",
       "Model-Name                                                               \n",
       "ExtraTreesClassifier            92.367171      0.158629       0.922449   \n",
       "SVC                             92.299011      0.195289       0.922248   \n",
       "MLPClassifier                   91.504553      0.173594       0.913208   \n",
       "RandomForestClassifier          91.040840      0.131671       0.908892   \n",
       "LogisticRegression              87.096486      0.161019       0.868249   \n",
       "BaggingClassifier               84.317560      0.140541       0.841288   \n",
       "SGDClassifier                   84.160009      0.134615       0.833940   \n",
       "DecisionTreeClassifier          80.509526      0.233439       0.803584   \n",
       "GradientBoostingClassifier      80.119560      0.176977       0.800036   \n",
       "ExtraTreeClassifier             74.390748      0.223152       0.740097   \n",
       "AdaBoostClassifier              57.013241      1.278693       0.565475   \n",
       "\n",
       "                            F1_Score Std  Precision Mean  Precision Std  \\\n",
       "Model-Name                                                                \n",
       "ExtraTreesClassifier            0.001392        0.923257       0.001565   \n",
       "SVC                             0.001684        0.922504       0.001734   \n",
       "MLPClassifier                   0.001873        0.912971       0.001743   \n",
       "RandomForestClassifier          0.001610        0.911403       0.001626   \n",
       "LogisticRegression              0.001415        0.868188       0.001565   \n",
       "BaggingClassifier               0.001701        0.840187       0.001675   \n",
       "SGDClassifier                   0.001280        0.841880       0.001364   \n",
       "DecisionTreeClassifier          0.001534        0.802614       0.001558   \n",
       "GradientBoostingClassifier      0.001560        0.803307       0.001425   \n",
       "ExtraTreeClassifier             0.002275        0.737760       0.002395   \n",
       "AdaBoostClassifier              0.011924        0.606599       0.009409   \n",
       "\n",
       "                            Recall Mean  Recall Std  Training Time (s)  \n",
       "Model-Name                                                              \n",
       "ExtraTreesClassifier           0.923670    0.001379         986.351300  \n",
       "SVC                            0.922984    0.001738        3110.773272  \n",
       "MLPClassifier                  0.915064    0.001715        9996.615614  \n",
       "RandomForestClassifier         0.910403    0.001468         611.053428  \n",
       "LogisticRegression             0.870974    0.001430          30.908529  \n",
       "BaggingClassifier              0.843168    0.001726        1051.847997  \n",
       "SGDClassifier                  0.841614    0.000833           5.110689  \n",
       "DecisionTreeClassifier         0.805109    0.001674         119.431770  \n",
       "GradientBoostingClassifier     0.801212    0.001839        3297.142758  \n",
       "ExtraTreeClassifier            0.743957    0.002123          10.941393  \n",
       "AdaBoostClassifier             0.570158    0.012860         152.698933  "
      ]
     },
     "execution_count": 26,
     "metadata": {},
     "output_type": "execute_result"
    }
   ],
   "source": [
    "df_models_score"
   ]
  },
  {
   "cell_type": "markdown",
   "id": "c4a44166",
   "metadata": {},
   "source": [
    "## Evaluation"
   ]
  },
  {
   "cell_type": "code",
   "execution_count": 27,
   "id": "62e833a9",
   "metadata": {},
   "outputs": [],
   "source": [
    "def evaluate_classification_metrics(y_true, y_pred, target_names=None, display=True, figsize=(8, 9)):\n",
    "    \"\"\"\n",
    "    Evaluates a classification model by generating a confusion matrix, confusion matrix display (optional), and classification report.\n",
    "\n",
    "    Args:\n",
    "        y_true (pd.Series): Ground truth labels.\n",
    "        y_pred (pd.Series): Predicted labels.\n",
    "        target_names (list, optional): List of class names for improved readability of the confusion matrix. Defaults to None.\n",
    "        display (bool, optional): Whether to display the confusion matrix visually using ConfusionMatrixDisplay. Defaults to True.\n",
    "\n",
    "    Returns:\n",
    "        dict: A dictionary containing the confusion matrix, classification report, and class names (if provided).\n",
    "    \"\"\"\n",
    "\n",
    "    # Ensure y_true and y_pred are NumPy arrays for compatibility with sklearn metrics\n",
    "    y_true = np.array(y_true)\n",
    "    y_pred = np.array(y_pred)\n",
    "\n",
    "    # Calculate confusion matrix\n",
    "    cm = confusion_matrix(y_true, y_pred)\n",
    "\n",
    "    # Generate classification report\n",
    "    report = classification_report(y_true, y_pred, target_names=target_names, zero_division=1)\n",
    "\n",
    "    # Optionally display confusion matrix visually\n",
    "    if display:\n",
    "        fig, ax = plt.subplots(figsize=figsize)\n",
    "        disp = ConfusionMatrixDisplay(confusion_matrix=cm, display_labels=target_names)\n",
    "        disp.plot(ax=ax, xticks_rotation='vertical')\n",
    "        plt.show()  # Display the confusion matrix plot\n",
    "\n",
    "    # Return results in a dictionary for easy access\n",
    "    evaluation_results = {\n",
    "        \"Confusion Matrix\": cm,\n",
    "        \"Classification Report\": report,\n",
    "        \"Target Names\": target_names,  # Include target names if provided\n",
    "    }\n",
    "    return evaluation_results"
   ]
  },
  {
   "cell_type": "code",
   "execution_count": 28,
   "id": "b3ab9efd",
   "metadata": {},
   "outputs": [],
   "source": [
    "best_algorithm_model = classification_models[df_models_score.index[0]]\n",
    "best_algorithm_model.fit(X_re_sampled, y_re_sampled)\n",
    "best_algorithm_prediction = best_algorithm_model.predict(X_test)"
   ]
  },
  {
   "cell_type": "code",
   "execution_count": 29,
   "id": "2622df2a",
   "metadata": {},
   "outputs": [
    {
     "data": {
      "image/png": "[encoded data removed]",
      "text/plain": [
       "<Figure size 800x900 with 2 Axes>"
      ]
     },
     "metadata": {},
     "output_type": "display_data"
    }
   ],
   "source": [
    "evaluation_results = evaluate_classification_metrics(y_test, best_algorithm_prediction, target_names=df['status'].unique(), display=True)"
   ]
  },
  {
   "cell_type": "code",
   "execution_count": 30,
   "id": "45f962bb",
   "metadata": {},
   "outputs": [
    {
     "name": "stdout",
     "output_type": "stream",
     "text": [
      "                      precision    recall  f1-score   support\n",
      "\n",
      "             Anxiety       0.80      0.80      0.80       702\n",
      "              Normal       0.86      0.72      0.79       480\n",
      "          Depression       0.66      0.67      0.66      2699\n",
      "            Suicidal       0.85      0.93      0.89      3256\n",
      "              Stress       0.96      0.49      0.65       191\n",
      "             Bipolar       0.81      0.37      0.51       503\n",
      "Personality disorder       0.61      0.64      0.63      1948\n",
      "\n",
      "            accuracy                           0.74      9779\n",
      "           macro avg       0.79      0.66      0.70      9779\n",
      "        weighted avg       0.75      0.74      0.74      9779\n",
      "\n"
     ]
    }
   ],
   "source": [
    "print(evaluation_results['Classification Report'])"
   ]
  },
  {
   "cell_type": "markdown",
   "id": "1a812d75fc57fc04",
   "metadata": {},
   "source": [
    "## Fine-Tuning"
   ]
  },
  {
   "cell_type": "markdown",
   "id": "e2d6b265",
   "metadata": {},
   "source": [
    "### Randomized Search"
   ]
  },
  {
   "cell_type": "code",
   "execution_count": 31,
   "id": "41ae71ae",
   "metadata": {},
   "outputs": [],
   "source": [
    "metric_evaluation = {\n",
    "        'accuracy': make_scorer(accuracy_score),\n",
    "        'f1': make_scorer(f1_score, average='macro', zero_division=1),\n",
    "        'recall': make_scorer(recall_score, average='macro', zero_division=1),\n",
    "        'precision': make_scorer(precision_score, average='macro', zero_division=1),\n",
    "    }"
   ]
  },
  {
   "cell_type": "code",
   "execution_count": null,
   "id": "885a19ad",
   "metadata": {},
   "outputs": [],
   "source": [
    "ExtraTreesClassifier(random_state=42)"
   ]
  },
  {
   "cell_type": "code",
   "execution_count": 32,
   "id": "94042dae",
   "metadata": {},
   "outputs": [],
   "source": [
    "param_dist = {\n",
    "    'n_estimators': randint(50, 500),\n",
    "    'max_features': uniform(0.1, 0.9),\n",
    "    'max_depth': [None, randint(5, 30)],\n",
    "    'min_samples_split': randint(2, 20),\n",
    "    'min_samples_leaf': randint(1, 10),\n",
    "    'bootstrap': [True, False],\n",
    "    'criterion': ['gini', 'entropy', 'log_loss']\n",
    "}"
   ]
  },
  {
   "cell_type": "code",
   "execution_count": 34,
   "id": "29141da5",
   "metadata": {},
   "outputs": [
    {
     "name": "stdout",
     "output_type": "stream",
     "text": [
      "Fitting 5 folds for each of 5 candidates, totalling 25 fits\n",
      "[CV] END bootstrap=True, criterion=entropy, max_depth=19, max_features=0.7587945476302645, min_samples_leaf=5, min_samples_split=8, n_estimators=171; total time=96.2min\n",
      "[CV] END bootstrap=True, criterion=entropy, max_depth=19, max_features=0.7587945476302645, min_samples_leaf=5, min_samples_split=8, n_estimators=171; total time=96.3min\n",
      "[CV] END bootstrap=True, criterion=entropy, max_depth=19, max_features=0.7587945476302645, min_samples_leaf=5, min_samples_split=8, n_estimators=171; total time=96.7min\n",
      "[CV] END bootstrap=True, criterion=entropy, max_depth=19, max_features=0.7587945476302645, min_samples_leaf=5, min_samples_split=8, n_estimators=171; total time=96.9min\n",
      "[CV] END bootstrap=True, criterion=entropy, max_depth=19, max_features=0.7587945476302645, min_samples_leaf=5, min_samples_split=8, n_estimators=171; total time=97.0min\n",
      "[CV] END bootstrap=True, criterion=gini, max_depth=14, max_features=0.1419990968922539, min_samples_leaf=3, min_samples_split=13, n_estimators=104; total time= 9.1min\n",
      "[CV] END bootstrap=True, criterion=gini, max_depth=15, max_features=0.5133240027692805, min_samples_leaf=5, min_samples_split=5, n_estimators=409; total time=107.3min\n",
      "[CV] END bootstrap=True, criterion=gini, max_depth=15, max_features=0.5133240027692805, min_samples_leaf=5, min_samples_split=5, n_estimators=409; total time=107.4min\n",
      "[CV] END bootstrap=True, criterion=gini, max_depth=15, max_features=0.5133240027692805, min_samples_leaf=5, min_samples_split=5, n_estimators=409; total time=107.5min\n",
      "[CV] END bootstrap=True, criterion=gini, max_depth=15, max_features=0.5133240027692805, min_samples_leaf=5, min_samples_split=5, n_estimators=409; total time=107.8min\n",
      "[CV] END bootstrap=True, criterion=gini, max_depth=15, max_features=0.5133240027692805, min_samples_leaf=5, min_samples_split=5, n_estimators=409; total time=109.5min\n",
      "[CV] END bootstrap=True, criterion=gini, max_depth=14, max_features=0.1419990968922539, min_samples_leaf=3, min_samples_split=13, n_estimators=104; total time= 8.2min\n",
      "[CV] END bootstrap=True, criterion=gini, max_depth=14, max_features=0.1419990968922539, min_samples_leaf=3, min_samples_split=13, n_estimators=104; total time= 8.1min\n",
      "[CV] END bootstrap=True, criterion=gini, max_depth=14, max_features=0.1419990968922539, min_samples_leaf=3, min_samples_split=13, n_estimators=104; total time= 8.0min\n",
      "[CV] END bootstrap=True, criterion=gini, max_depth=14, max_features=0.1419990968922539, min_samples_leaf=3, min_samples_split=13, n_estimators=104; total time= 8.2min\n",
      "[CV] END bootstrap=False, criterion=gini, max_depth=26, max_features=0.15077042112439024, min_samples_leaf=8, min_samples_split=13, n_estimators=463; total time=137.1min\n",
      "[CV] END bootstrap=False, criterion=gini, max_depth=26, max_features=0.15077042112439024, min_samples_leaf=8, min_samples_split=13, n_estimators=463; total time=137.3min\n",
      "[CV] END bootstrap=False, criterion=gini, max_depth=26, max_features=0.15077042112439024, min_samples_leaf=8, min_samples_split=13, n_estimators=463; total time=137.6min\n",
      "[CV] END bootstrap=False, criterion=gini, max_depth=26, max_features=0.15077042112439024, min_samples_leaf=8, min_samples_split=13, n_estimators=463; total time=138.0min\n",
      "[CV] END bootstrap=False, criterion=gini, max_depth=26, max_features=0.15077042112439024, min_samples_leaf=8, min_samples_split=13, n_estimators=463; total time=139.0min\n",
      "[CV] END bootstrap=False, criterion=entropy, max_depth=25, max_features=0.6557333586649449, min_samples_leaf=6, min_samples_split=13, n_estimators=394; total time=238.7min\n",
      "[CV] END bootstrap=False, criterion=entropy, max_depth=25, max_features=0.6557333586649449, min_samples_leaf=6, min_samples_split=13, n_estimators=394; total time=177.6min\n",
      "[CV] END bootstrap=False, criterion=entropy, max_depth=25, max_features=0.6557333586649449, min_samples_leaf=6, min_samples_split=13, n_estimators=394; total time=178.9min\n",
      "[CV] END bootstrap=False, criterion=entropy, max_depth=25, max_features=0.6557333586649449, min_samples_leaf=6, min_samples_split=13, n_estimators=394; total time=179.1min\n",
      "[CV] END bootstrap=False, criterion=entropy, max_depth=25, max_features=0.6557333586649449, min_samples_leaf=6, min_samples_split=13, n_estimators=394; total time=179.1min\n"
     ]
    },
    {
     "data": {
      "text/html": [
       "<style>#sk-container-id-1 {\n",
       "  /* Definition of color scheme common for light and dark mode */\n",
       "  --sklearn-color-text: black;\n",
       "  --sklearn-color-line: gray;\n",
       "  /* Definition of color scheme for unfitted estimators */\n",
       "  --sklearn-color-unfitted-level-0: #fff5e6;\n",
       "  --sklearn-color-unfitted-level-1: #f6e4d2;\n",
       "  --sklearn-color-unfitted-level-2: #ffe0b3;\n",
       "  --sklearn-color-unfitted-level-3: chocolate;\n",
       "  /* Definition of color scheme for fitted estimators */\n",
       "  --sklearn-color-fitted-level-0: #f0f8ff;\n",
       "  --sklearn-color-fitted-level-1: #d4ebff;\n",
       "  --sklearn-color-fitted-level-2: #b3dbfd;\n",
       "  --sklearn-color-fitted-level-3: cornflowerblue;\n",
       "\n",
       "  /* Specific color for light theme */\n",
       "  --sklearn-color-text-on-default-background: var(--sg-text-color, var(--theme-code-foreground, var(--jp-content-font-color1, black)));\n",
       "  --sklearn-color-background: var(--sg-background-color, var(--theme-background, var(--jp-layout-color0, white)));\n",
       "  --sklearn-color-border-box: var(--sg-text-color, var(--theme-code-foreground, var(--jp-content-font-color1, black)));\n",
       "  --sklearn-color-icon: #696969;\n",
       "\n",
       "  @media (prefers-color-scheme: dark) {\n",
       "    /* Redefinition of color scheme for dark theme */\n",
       "    --sklearn-color-text-on-default-background: var(--sg-text-color, var(--theme-code-foreground, var(--jp-content-font-color1, white)));\n",
       "    --sklearn-color-background: var(--sg-background-color, var(--theme-background, var(--jp-layout-color0, #111)));\n",
       "    --sklearn-color-border-box: var(--sg-text-color, var(--theme-code-foreground, var(--jp-content-font-color1, white)));\n",
       "    --sklearn-color-icon: #878787;\n",
       "  }\n",
       "}\n",
       "\n",
       "#sk-container-id-1 {\n",
       "  color: var(--sklearn-color-text);\n",
       "}\n",
       "\n",
       "#sk-container-id-1 pre {\n",
       "  padding: 0;\n",
       "}\n",
       "\n",
       "#sk-container-id-1 input.sk-hidden--visually {\n",
       "  border: 0;\n",
       "  clip: rect(1px 1px 1px 1px);\n",
       "  clip: rect(1px, 1px, 1px, 1px);\n",
       "  height: 1px;\n",
       "  margin: -1px;\n",
       "  overflow: hidden;\n",
       "  padding: 0;\n",
       "  position: absolute;\n",
       "  width: 1px;\n",
       "}\n",
       "\n",
       "#sk-container-id-1 div.sk-dashed-wrapped {\n",
       "  border: 1px dashed var(--sklearn-color-line);\n",
       "  margin: 0 0.4em 0.5em 0.4em;\n",
       "  box-sizing: border-box;\n",
       "  padding-bottom: 0.4em;\n",
       "  background-color: var(--sklearn-color-background);\n",
       "}\n",
       "\n",
       "#sk-container-id-1 div.sk-container {\n",
       "  /* jupyter's `normalize.less` sets `[hidden] { display: none; }`\n",
       "     but bootstrap.min.css set `[hidden] { display: none !important; }`\n",
       "     so we also need the `!important` here to be able to override the\n",
       "     default hidden behavior on the sphinx rendered scikit-learn.org.\n",
       "     See: https://github.com/scikit-learn/scikit-learn/issues/21755 */\n",
       "  display: inline-block !important;\n",
       "  position: relative;\n",
       "}\n",
       "\n",
       "#sk-container-id-1 div.sk-text-repr-fallback {\n",
       "  display: none;\n",
       "}\n",
       "\n",
       "div.sk-parallel-item,\n",
       "div.sk-serial,\n",
       "div.sk-item {\n",
       "  /* draw centered vertical line to link estimators */\n",
       "  background-image: linear-gradient(var(--sklearn-color-text-on-default-background), var(--sklearn-color-text-on-default-background));\n",
       "  background-size: 2px 100%;\n",
       "  background-repeat: no-repeat;\n",
       "  background-position: center center;\n",
       "}\n",
       "\n",
       "/* Parallel-specific style estimator block */\n",
       "\n",
       "#sk-container-id-1 div.sk-parallel-item::after {\n",
       "  content: \"\";\n",
       "  width: 100%;\n",
       "  border-bottom: 2px solid var(--sklearn-color-text-on-default-background);\n",
       "  flex-grow: 1;\n",
       "}\n",
       "\n",
       "#sk-container-id-1 div.sk-parallel {\n",
       "  display: flex;\n",
       "  align-items: stretch;\n",
       "  justify-content: center;\n",
       "  background-color: var(--sklearn-color-background);\n",
       "  position: relative;\n",
       "}\n",
       "\n",
       "#sk-container-id-1 div.sk-parallel-item {\n",
       "  display: flex;\n",
       "  flex-direction: column;\n",
       "}\n",
       "\n",
       "#sk-container-id-1 div.sk-parallel-item:first-child::after {\n",
       "  align-self: flex-end;\n",
       "  width: 50%;\n",
       "}\n",
       "\n",
       "#sk-container-id-1 div.sk-parallel-item:last-child::after {\n",
       "  align-self: flex-start;\n",
       "  width: 50%;\n",
       "}\n",
       "\n",
       "#sk-container-id-1 div.sk-parallel-item:only-child::after {\n",
       "  width: 0;\n",
       "}\n",
       "\n",
       "/* Serial-specific style estimator block */\n",
       "\n",
       "#sk-container-id-1 div.sk-serial {\n",
       "  display: flex;\n",
       "  flex-direction: column;\n",
       "  align-items: center;\n",
       "  background-color: var(--sklearn-color-background);\n",
       "  padding-right: 1em;\n",
       "  padding-left: 1em;\n",
       "}\n",
       "\n",
       "\n",
       "/* Toggleable style: style used for estimator/Pipeline/ColumnTransformer box that is\n",
       "clickable and can be expanded/collapsed.\n",
       "- Pipeline and ColumnTransformer use this feature and define the default style\n",
       "- Estimators will overwrite some part of the style using the `sk-estimator` class\n",
       "*/\n",
       "\n",
       "/* Pipeline and ColumnTransformer style (default) */\n",
       "\n",
       "#sk-container-id-1 div.sk-toggleable {\n",
       "  /* Default theme specific background. It is overwritten whether we have a\n",
       "  specific estimator or a Pipeline/ColumnTransformer */\n",
       "  background-color: var(--sklearn-color-background);\n",
       "}\n",
       "\n",
       "/* Toggleable label */\n",
       "#sk-container-id-1 label.sk-toggleable__label {\n",
       "  cursor: pointer;\n",
       "  display: block;\n",
       "  width: 100%;\n",
       "  margin-bottom: 0;\n",
       "  padding: 0.5em;\n",
       "  box-sizing: border-box;\n",
       "  text-align: center;\n",
       "}\n",
       "\n",
       "#sk-container-id-1 label.sk-toggleable__label-arrow:before {\n",
       "  /* Arrow on the left of the label */\n",
       "  content: \"▸\";\n",
       "  float: left;\n",
       "  margin-right: 0.25em;\n",
       "  color: var(--sklearn-color-icon);\n",
       "}\n",
       "\n",
       "#sk-container-id-1 label.sk-toggleable__label-arrow:hover:before {\n",
       "  color: var(--sklearn-color-text);\n",
       "}\n",
       "\n",
       "/* Toggleable content - dropdown */\n",
       "\n",
       "#sk-container-id-1 div.sk-toggleable__content {\n",
       "  max-height: 0;\n",
       "  max-width: 0;\n",
       "  overflow: hidden;\n",
       "  text-align: left;\n",
       "  /* unfitted */\n",
       "  background-color: var(--sklearn-color-unfitted-level-0);\n",
       "}\n",
       "\n",
       "#sk-container-id-1 div.sk-toggleable__content.fitted {\n",
       "  /* fitted */\n",
       "  background-color: var(--sklearn-color-fitted-level-0);\n",
       "}\n",
       "\n",
       "#sk-container-id-1 div.sk-toggleable__content pre {\n",
       "  margin: 0.2em;\n",
       "  border-radius: 0.25em;\n",
       "  color: var(--sklearn-color-text);\n",
       "  /* unfitted */\n",
       "  background-color: var(--sklearn-color-unfitted-level-0);\n",
       "}\n",
       "\n",
       "#sk-container-id-1 div.sk-toggleable__content.fitted pre {\n",
       "  /* unfitted */\n",
       "  background-color: var(--sklearn-color-fitted-level-0);\n",
       "}\n",
       "\n",
       "#sk-container-id-1 input.sk-toggleable__control:checked~div.sk-toggleable__content {\n",
       "  /* Expand drop-down */\n",
       "  max-height: 200px;\n",
       "  max-width: 100%;\n",
       "  overflow: auto;\n",
       "}\n",
       "\n",
       "#sk-container-id-1 input.sk-toggleable__control:checked~label.sk-toggleable__label-arrow:before {\n",
       "  content: \"▾\";\n",
       "}\n",
       "\n",
       "/* Pipeline/ColumnTransformer-specific style */\n",
       "\n",
       "#sk-container-id-1 div.sk-label input.sk-toggleable__control:checked~label.sk-toggleable__label {\n",
       "  color: var(--sklearn-color-text);\n",
       "  background-color: var(--sklearn-color-unfitted-level-2);\n",
       "}\n",
       "\n",
       "#sk-container-id-1 div.sk-label.fitted input.sk-toggleable__control:checked~label.sk-toggleable__label {\n",
       "  background-color: var(--sklearn-color-fitted-level-2);\n",
       "}\n",
       "\n",
       "/* Estimator-specific style */\n",
       "\n",
       "/* Colorize estimator box */\n",
       "#sk-container-id-1 div.sk-estimator input.sk-toggleable__control:checked~label.sk-toggleable__label {\n",
       "  /* unfitted */\n",
       "  background-color: var(--sklearn-color-unfitted-level-2);\n",
       "}\n",
       "\n",
       "#sk-container-id-1 div.sk-estimator.fitted input.sk-toggleable__control:checked~label.sk-toggleable__label {\n",
       "  /* fitted */\n",
       "  background-color: var(--sklearn-color-fitted-level-2);\n",
       "}\n",
       "\n",
       "#sk-container-id-1 div.sk-label label.sk-toggleable__label,\n",
       "#sk-container-id-1 div.sk-label label {\n",
       "  /* The background is the default theme color */\n",
       "  color: var(--sklearn-color-text-on-default-background);\n",
       "}\n",
       "\n",
       "/* On hover, darken the color of the background */\n",
       "#sk-container-id-1 div.sk-label:hover label.sk-toggleable__label {\n",
       "  color: var(--sklearn-color-text);\n",
       "  background-color: var(--sklearn-color-unfitted-level-2);\n",
       "}\n",
       "\n",
       "/* Label box, darken color on hover, fitted */\n",
       "#sk-container-id-1 div.sk-label.fitted:hover label.sk-toggleable__label.fitted {\n",
       "  color: var(--sklearn-color-text);\n",
       "  background-color: var(--sklearn-color-fitted-level-2);\n",
       "}\n",
       "\n",
       "/* Estimator label */\n",
       "\n",
       "#sk-container-id-1 div.sk-label label {\n",
       "  font-family: monospace;\n",
       "  font-weight: bold;\n",
       "  display: inline-block;\n",
       "  line-height: 1.2em;\n",
       "}\n",
       "\n",
       "#sk-container-id-1 div.sk-label-container {\n",
       "  text-align: center;\n",
       "}\n",
       "\n",
       "/* Estimator-specific */\n",
       "#sk-container-id-1 div.sk-estimator {\n",
       "  font-family: monospace;\n",
       "  border: 1px dotted var(--sklearn-color-border-box);\n",
       "  border-radius: 0.25em;\n",
       "  box-sizing: border-box;\n",
       "  margin-bottom: 0.5em;\n",
       "  /* unfitted */\n",
       "  background-color: var(--sklearn-color-unfitted-level-0);\n",
       "}\n",
       "\n",
       "#sk-container-id-1 div.sk-estimator.fitted {\n",
       "  /* fitted */\n",
       "  background-color: var(--sklearn-color-fitted-level-0);\n",
       "}\n",
       "\n",
       "/* on hover */\n",
       "#sk-container-id-1 div.sk-estimator:hover {\n",
       "  /* unfitted */\n",
       "  background-color: var(--sklearn-color-unfitted-level-2);\n",
       "}\n",
       "\n",
       "#sk-container-id-1 div.sk-estimator.fitted:hover {\n",
       "  /* fitted */\n",
       "  background-color: var(--sklearn-color-fitted-level-2);\n",
       "}\n",
       "\n",
       "/* Specification for estimator info (e.g. \"i\" and \"?\") */\n",
       "\n",
       "/* Common style for \"i\" and \"?\" */\n",
       "\n",
       ".sk-estimator-doc-link,\n",
       "a:link.sk-estimator-doc-link,\n",
       "a:visited.sk-estimator-doc-link {\n",
       "  float: right;\n",
       "  font-size: smaller;\n",
       "  line-height: 1em;\n",
       "  font-family: monospace;\n",
       "  background-color: var(--sklearn-color-background);\n",
       "  border-radius: 1em;\n",
       "  height: 1em;\n",
       "  width: 1em;\n",
       "  text-decoration: none !important;\n",
       "  margin-left: 1ex;\n",
       "  /* unfitted */\n",
       "  border: var(--sklearn-color-unfitted-level-1) 1pt solid;\n",
       "  color: var(--sklearn-color-unfitted-level-1);\n",
       "}\n",
       "\n",
       ".sk-estimator-doc-link.fitted,\n",
       "a:link.sk-estimator-doc-link.fitted,\n",
       "a:visited.sk-estimator-doc-link.fitted {\n",
       "  /* fitted */\n",
       "  border: var(--sklearn-color-fitted-level-1) 1pt solid;\n",
       "  color: var(--sklearn-color-fitted-level-1);\n",
       "}\n",
       "\n",
       "/* On hover */\n",
       "div.sk-estimator:hover .sk-estimator-doc-link:hover,\n",
       ".sk-estimator-doc-link:hover,\n",
       "div.sk-label-container:hover .sk-estimator-doc-link:hover,\n",
       ".sk-estimator-doc-link:hover {\n",
       "  /* unfitted */\n",
       "  background-color: var(--sklearn-color-unfitted-level-3);\n",
       "  color: var(--sklearn-color-background);\n",
       "  text-decoration: none;\n",
       "}\n",
       "\n",
       "div.sk-estimator.fitted:hover .sk-estimator-doc-link.fitted:hover,\n",
       ".sk-estimator-doc-link.fitted:hover,\n",
       "div.sk-label-container:hover .sk-estimator-doc-link.fitted:hover,\n",
       ".sk-estimator-doc-link.fitted:hover {\n",
       "  /* fitted */\n",
       "  background-color: var(--sklearn-color-fitted-level-3);\n",
       "  color: var(--sklearn-color-background);\n",
       "  text-decoration: none;\n",
       "}\n",
       "\n",
       "/* Span, style for the box shown on hovering the info icon */\n",
       ".sk-estimator-doc-link span {\n",
       "  display: none;\n",
       "  z-index: 9999;\n",
       "  position: relative;\n",
       "  font-weight: normal;\n",
       "  right: .2ex;\n",
       "  padding: .5ex;\n",
       "  margin: .5ex;\n",
       "  width: min-content;\n",
       "  min-width: 20ex;\n",
       "  max-width: 50ex;\n",
       "  color: var(--sklearn-color-text);\n",
       "  box-shadow: 2pt 2pt 4pt #999;\n",
       "  /* unfitted */\n",
       "  background: var(--sklearn-color-unfitted-level-0);\n",
       "  border: .5pt solid var(--sklearn-color-unfitted-level-3);\n",
       "}\n",
       "\n",
       ".sk-estimator-doc-link.fitted span {\n",
       "  /* fitted */\n",
       "  background: var(--sklearn-color-fitted-level-0);\n",
       "  border: var(--sklearn-color-fitted-level-3);\n",
       "}\n",
       "\n",
       ".sk-estimator-doc-link:hover span {\n",
       "  display: block;\n",
       "}\n",
       "\n",
       "/* \"?\"-specific style due to the `<a>` HTML tag */\n",
       "\n",
       "#sk-container-id-1 a.estimator_doc_link {\n",
       "  float: right;\n",
       "  font-size: 1rem;\n",
       "  line-height: 1em;\n",
       "  font-family: monospace;\n",
       "  background-color: var(--sklearn-color-background);\n",
       "  border-radius: 1rem;\n",
       "  height: 1rem;\n",
       "  width: 1rem;\n",
       "  text-decoration: none;\n",
       "  /* unfitted */\n",
       "  color: var(--sklearn-color-unfitted-level-1);\n",
       "  border: var(--sklearn-color-unfitted-level-1) 1pt solid;\n",
       "}\n",
       "\n",
       "#sk-container-id-1 a.estimator_doc_link.fitted {\n",
       "  /* fitted */\n",
       "  border: var(--sklearn-color-fitted-level-1) 1pt solid;\n",
       "  color: var(--sklearn-color-fitted-level-1);\n",
       "}\n",
       "\n",
       "/* On hover */\n",
       "#sk-container-id-1 a.estimator_doc_link:hover {\n",
       "  /* unfitted */\n",
       "  background-color: var(--sklearn-color-unfitted-level-3);\n",
       "  color: var(--sklearn-color-background);\n",
       "  text-decoration: none;\n",
       "}\n",
       "\n",
       "#sk-container-id-1 a.estimator_doc_link.fitted:hover {\n",
       "  /* fitted */\n",
       "  background-color: var(--sklearn-color-fitted-level-3);\n",
       "}\n",
       "</style><div id=\"sk-container-id-1\" class=\"sk-top-container\"><div class=\"sk-text-repr-fallback\"><pre>RandomizedSearchCV(cv=KFold(n_splits=5, random_state=42, shuffle=True),\n",
       "                   estimator=ExtraTreesClassifier(random_state=42), n_iter=5,\n",
       "                   n_jobs=-1,\n",
       "                   param_distributions={&#x27;bootstrap&#x27;: [True, False],\n",
       "                                        &#x27;criterion&#x27;: [&#x27;gini&#x27;, &#x27;entropy&#x27;],\n",
       "                                        &#x27;max_depth&#x27;: &lt;scipy.stats._distn_infrastructure.rv_discrete_frozen object at 0x1733fa950&gt;,\n",
       "                                        &#x27;max_features&#x27;: &lt;scipy.stats._distn_infrastructure.r...\n",
       "                   scoring={&#x27;accuracy&#x27;: make_scorer(accuracy_score, response_method=&#x27;predict&#x27;),\n",
       "                            &#x27;f1&#x27;: make_scorer(f1_score, response_method=&#x27;predict&#x27;, average=macro, zero_division=1),\n",
       "                            &#x27;precision&#x27;: make_scorer(precision_score, response_method=&#x27;predict&#x27;, average=macro, zero_division=1),\n",
       "                            &#x27;recall&#x27;: make_scorer(recall_score, response_method=&#x27;predict&#x27;, average=macro, zero_division=1)},\n",
       "                   verbose=2)</pre><b>In a Jupyter environment, please rerun this cell to show the HTML representation or trust the notebook. <br />On GitHub, the HTML representation is unable to render, please try loading this page with nbviewer.org.</b></div><div class=\"sk-container\" hidden><div class=\"sk-item sk-dashed-wrapped\"><div class=\"sk-label-container\"><div class=\"sk-label fitted sk-toggleable\"><input class=\"sk-toggleable__control sk-hidden--visually\" id=\"sk-estimator-id-1\" type=\"checkbox\" ><label for=\"sk-estimator-id-1\" class=\"sk-toggleable__label fitted sk-toggleable__label-arrow fitted\">&nbsp;&nbsp;RandomizedSearchCV<a class=\"sk-estimator-doc-link fitted\" rel=\"noreferrer\" target=\"_blank\" href=\"https://scikit-learn.org/1.5/modules/generated/sklearn.model_selection.RandomizedSearchCV.html\">?<span>Documentation for RandomizedSearchCV</span></a><span class=\"sk-estimator-doc-link fitted\">i<span>Fitted</span></span></label><div class=\"sk-toggleable__content fitted\"><pre>RandomizedSearchCV(cv=KFold(n_splits=5, random_state=42, shuffle=True),\n",
       "                   estimator=ExtraTreesClassifier(random_state=42), n_iter=5,\n",
       "                   n_jobs=-1,\n",
       "                   param_distributions={&#x27;bootstrap&#x27;: [True, False],\n",
       "                                        &#x27;criterion&#x27;: [&#x27;gini&#x27;, &#x27;entropy&#x27;],\n",
       "                                        &#x27;max_depth&#x27;: &lt;scipy.stats._distn_infrastructure.rv_discrete_frozen object at 0x1733fa950&gt;,\n",
       "                                        &#x27;max_features&#x27;: &lt;scipy.stats._distn_infrastructure.r...\n",
       "                   scoring={&#x27;accuracy&#x27;: make_scorer(accuracy_score, response_method=&#x27;predict&#x27;),\n",
       "                            &#x27;f1&#x27;: make_scorer(f1_score, response_method=&#x27;predict&#x27;, average=macro, zero_division=1),\n",
       "                            &#x27;precision&#x27;: make_scorer(precision_score, response_method=&#x27;predict&#x27;, average=macro, zero_division=1),\n",
       "                            &#x27;recall&#x27;: make_scorer(recall_score, response_method=&#x27;predict&#x27;, average=macro, zero_division=1)},\n",
       "                   verbose=2)</pre></div> </div></div><div class=\"sk-parallel\"><div class=\"sk-parallel-item\"><div class=\"sk-item\"><div class=\"sk-label-container\"><div class=\"sk-label fitted sk-toggleable\"><input class=\"sk-toggleable__control sk-hidden--visually\" id=\"sk-estimator-id-2\" type=\"checkbox\" ><label for=\"sk-estimator-id-2\" class=\"sk-toggleable__label fitted sk-toggleable__label-arrow fitted\">best_estimator_: ExtraTreesClassifier</label><div class=\"sk-toggleable__content fitted\"><pre>ExtraTreesClassifier(criterion=&#x27;entropy&#x27;, max_depth=25,\n",
       "                     max_features=0.6557333586649449, min_samples_leaf=6,\n",
       "                     min_samples_split=13, n_estimators=394, random_state=42)</pre></div> </div></div><div class=\"sk-serial\"><div class=\"sk-item\"><div class=\"sk-estimator fitted sk-toggleable\"><input class=\"sk-toggleable__control sk-hidden--visually\" id=\"sk-estimator-id-3\" type=\"checkbox\" ><label for=\"sk-estimator-id-3\" class=\"sk-toggleable__label fitted sk-toggleable__label-arrow fitted\">&nbsp;ExtraTreesClassifier<a class=\"sk-estimator-doc-link fitted\" rel=\"noreferrer\" target=\"_blank\" href=\"https://scikit-learn.org/1.5/modules/generated/sklearn.ensemble.ExtraTreesClassifier.html\">?<span>Documentation for ExtraTreesClassifier</span></a></label><div class=\"sk-toggleable__content fitted\"><pre>ExtraTreesClassifier(criterion=&#x27;entropy&#x27;, max_depth=25,\n",
       "                     max_features=0.6557333586649449, min_samples_leaf=6,\n",
       "                     min_samples_split=13, n_estimators=394, random_state=42)</pre></div> </div></div></div></div></div></div></div></div></div>"
      ],
      "text/plain": [
       "RandomizedSearchCV(cv=KFold(n_splits=5, random_state=42, shuffle=True),\n",
       "                   estimator=ExtraTreesClassifier(random_state=42), n_iter=5,\n",
       "                   n_jobs=-1,\n",
       "                   param_distributions={'bootstrap': [True, False],\n",
       "                                        'criterion': ['gini', 'entropy'],\n",
       "                                        'max_depth': <scipy.stats._distn_infrastructure.rv_discrete_frozen object at 0x1733fa950>,\n",
       "                                        'max_features': <scipy.stats._distn_infrastructure.r...\n",
       "                   scoring={'accuracy': make_scorer(accuracy_score, response_method='predict'),\n",
       "                            'f1': make_scorer(f1_score, response_method='predict', average=macro, zero_division=1),\n",
       "                            'precision': make_scorer(precision_score, response_method='predict', average=macro, zero_division=1),\n",
       "                            'recall': make_scorer(recall_score, response_method='predict', average=macro, zero_division=1)},\n",
       "                   verbose=2)"
      ]
     },
     "execution_count": 34,
     "metadata": {},
     "output_type": "execute_result"
    }
   ],
   "source": [
    "random_search = RandomizedSearchCV(\n",
    "    estimator= classification_models[df_models_score.index[0]],\n",
    "    param_distributions=param_dist,\n",
    "    scoring= metric_evaluation,\n",
    "    refit='f1',\n",
    "    cv=kfold,  \n",
    "    random_state=42,\n",
    "    n_iter=5, # Number of parameter settings that are sampled. Tip: more than 30 is better\n",
    "    verbose=2,\n",
    "    n_jobs=-1\n",
    ")\n",
    "\n",
    "random_search.fit(X_re_sampled, y_re_sampled)"
   ]
  },
  {
   "cell_type": "code",
   "execution_count": 35,
   "id": "e1172a2d",
   "metadata": {},
   "outputs": [
    {
     "name": "stdout",
     "output_type": "stream",
     "text": [
      "Best Parameters: {'bootstrap': False, 'criterion': 'entropy', 'max_depth': 25, 'max_features': 0.6557333586649449, 'min_samples_leaf': 6, 'min_samples_split': 13, 'n_estimators': 394}\n",
      "Best Model Score: 0.6879026485325698\n"
     ]
    }
   ],
   "source": [
    "best_params = random_search.best_params_\n",
    "best_model = random_search.best_estimator_\n",
    "print(f\"Best Parameters: {best_params}\")\n",
    "print(\"Best Model Score:\", best_model.score(X_test, y_test))"
   ]
  },
  {
   "cell_type": "code",
   "execution_count": 36,
   "id": "acc4434a",
   "metadata": {},
   "outputs": [
    {
     "name": "stdout",
     "output_type": "stream",
     "text": [
      "F1_score 0.638046589347608\n",
      "Accuracy 0.6879026485325698\n"
     ]
    }
   ],
   "source": [
    "best_model.fit(X_re_sampled, y_re_sampled)\n",
    "\n",
    "best_prediction = best_model.predict(X_test)\n",
    "\n",
    "print(\"F1_score\", f1_score(y_test, best_prediction, average='macro'))\n",
    "print(\"Accuracy\", accuracy_score(y_test, best_prediction))"
   ]
  },
  {
   "cell_type": "code",
   "execution_count": 37,
   "id": "97e4deba",
   "metadata": {},
   "outputs": [
    {
     "name": "stdout",
     "output_type": "stream",
     "text": [
      "Classification Report: \n",
      "\n",
      "                      precision    recall  f1-score   support\n",
      "\n",
      "             Anxiety       0.66      0.72      0.69       702\n",
      "             Bipolar       0.78      0.64      0.70       480\n",
      "          Depression       0.71      0.53      0.61      2699\n",
      "              Normal       0.74      0.94      0.83      3256\n",
      "Personality disorder       0.70      0.58      0.64       191\n",
      "              Stress       0.44      0.40      0.42       503\n",
      "            Suicidal       0.60      0.57      0.58      1948\n",
      "\n",
      "            accuracy                           0.69      9779\n",
      "           macro avg       0.66      0.63      0.64      9779\n",
      "        weighted avg       0.68      0.69      0.68      9779\n",
      "\n"
     ]
    }
   ],
   "source": [
    "print(f'Classification Report: \\n\\n{classification_report(y_test, best_prediction)}')"
   ]
  },
  {
   "cell_type": "markdown",
   "id": "8f4536fe",
   "metadata": {},
   "source": [
    "## Saving Model"
   ]
  },
  {
   "cell_type": "code",
   "execution_count": 45,
   "id": "4a8f4e0c",
   "metadata": {},
   "outputs": [],
   "source": [
    "with open('Sentiment_Analysis_Mental-Health.pkl', 'wb') as model_dumps:\n",
    "    pickle.dump(best_model, model_dumps)"
   ]
  },
  {
   "cell_type": "markdown",
   "id": "bab41c80",
   "metadata": {},
   "source": [
    "#### Contibutor\n",
    "> Piyawat Nulek (piyawat.nulek@icloud.com)"
   ]
  }
 ],
 "metadata": {
  "kernelspec": {
   "display_name": "Python 3",
   "language": "python",
   "name": "python3"
  },
  "language_info": {
   "codemirror_mode": {
    "name": "ipython",
    "version": 3
   },
   "file_extension": ".py",
   "mimetype": "text/x-python",
   "name": "python",
   "nbconvert_exporter": "python",
   "pygments_lexer": "ipython3",
   "version": "3.11.9"
  }
 },
 "nbformat": 4,
 "nbformat_minor": 5
}
